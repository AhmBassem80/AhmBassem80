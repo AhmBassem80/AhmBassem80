{
  "nbformat": 4,
  "nbformat_minor": 0,
  "metadata": {
    "colab": {
      "provenance": [],
      "authorship_tag": "ABX9TyPMdmOf/LDLIXyM4igT/cSe",
      "include_colab_link": true
    },
    "kernelspec": {
      "name": "python3",
      "display_name": "Python 3"
    },
    "language_info": {
      "name": "python"
    }
  },
  "cells": [
    {
      "cell_type": "markdown",
      "metadata": {
        "id": "view-in-github",
        "colab_type": "text"
      },
      "source": [
        "<a href=\"https://colab.research.google.com/github/AhmBassem80/AhmBassem80/blob/main/Data_Preprocessing(Feature_Engineering).ipynb\" target=\"_parent\"><img src=\"https://colab.research.google.com/assets/colab-badge.svg\" alt=\"Open In Colab\"/></a>"
      ]
    },
    {
      "cell_type": "code",
      "source": [
        "import pandas as pd\n",
        "import numpy as np\n",
        "\n",
        "data = pd.read_csv(r'/content/Data.csv')\n",
        "\n",
        "X = data.iloc[:,:-1]\n",
        "y = data.iloc[:,-1]"
      ],
      "metadata": {
        "id": "2sGYLutvg6_6"
      },
      "execution_count": 3,
      "outputs": []
    },
    {
      "cell_type": "code",
      "source": [
        "from sklearn.impute import SimpleImputer\n",
        "imputer = SimpleImputer(missing_values=np.nan, strategy='mean')\n",
        "X.iloc[:,1:] = imputer.fit_transform(X.iloc[:,1:])\n",
        "#x.iloc[:, 1:] = x.iloc[:, 1:].fillna(value=x.iloc[:, 1:].mean()) ==> the same above code by using Pandas"
      ],
      "metadata": {
        "id": "tS2plOGQi-hJ"
      },
      "execution_count": 4,
      "outputs": []
    },
    {
      "cell_type": "code",
      "source": [
        "# Encoding X[0]==> Categorical data into one Array\n",
        "from sklearn.preprocessing import LabelEncoder\n",
        "labelencoder_X = LabelEncoder()\n",
        "X.iloc[:,0] = labelencoder_X.fit_transform(X.iloc[:,0])"
      ],
      "metadata": {
        "id": "npIbDwsukXYO"
      },
      "execution_count": 9,
      "outputs": []
    },
    {
      "cell_type": "code",
      "source": [
        "# Encoding X[0]==> Categorical data into Number of Array = Number of Categorical data (Dummy Encoding variable)\n",
        "from sklearn.preprocessing import LabelEncoder , OneHotEncoder\n",
        "from sklearn.compose import make_column_transformer\n",
        "encode_X = make_column_transformer(\n",
        "    (OneHotEncoder(categories='auto'),[0]),\n",
        "    remainder='passthrough'\n",
        "    )\n",
        "X = encode_X.fit_transform(X)\n",
        "\n",
        "# Encoding y ==> Categorical data into one Array\n",
        "labelencoder_y = LabelEncoder()\n",
        "y = labelencoder_y.fit_transform(y)"
      ],
      "metadata": {
        "id": "yIdEF6V7kfhN"
      },
      "execution_count": 16,
      "outputs": []
    },
    {
      "cell_type": "code",
      "source": [
        "#splitting dataset into Trean data And Test data\n",
        "from sklearn.model_selection import train_test_split\n",
        "X_train , X_test , y_train , y_test = train_test_split(X , y, test_size=0.2 , random_state=42 , shuffle=False , stratify=None)\n",
        "\n",
        "# Featur Scaling (don't need apply on y)\n",
        "from sklearn.preprocessing import StandardScaler\n",
        "sc_x = StandardScaler()\n",
        "X_train = sc_x.fit_transform(X_train)\n",
        "X_test = sc_x.transform(X_test)"
      ],
      "metadata": {
        "id": "umDnj3f9n2iq"
      },
      "execution_count": 17,
      "outputs": []
    },
    {
      "cell_type": "code",
      "source": [],
      "metadata": {
        "id": "rA2GAWiboHEs"
      },
      "execution_count": null,
      "outputs": []
    }
  ]
}